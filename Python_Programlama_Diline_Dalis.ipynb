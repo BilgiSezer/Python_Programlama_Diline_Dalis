{
 "cells": [
  {
   "cell_type": "markdown",
   "metadata": {},
   "source": [
    "## Python Programlama Diline Dalış (Diving into the Python Programming Language)"
   ]
  },
  {
   "cell_type": "markdown",
   "metadata": {},
   "source": [
    "Python nedir? (Kısaca)\n",
    "   - Python, nesne tabanlı ve yüksek seviyeli bir programlama dilidir.\n",
    "   - Basit söz dizimine sahip olması, Python programlama dilinin öğrenilmesini ve akılda kalmasını kolaylaştırır. Bu durum, kullanıcıların söz dizimi ayrıntılarına çok fazla vakit ayırmadan programlamaya başlanabilen bir dil olmasını sağlar. \n",
    "\n",
    "What is Python? (Briefly)\n",
    "   - Python is an object oriented and high level programming language.\n",
    "   - Its simple syntax makes it easy to learn and remember the Python programming language. This makes it a language that users can start programming without devoting too much time to syntax details."
   ]
  },
  {
   "cell_type": "markdown",
   "metadata": {},
   "source": [
    "<a id='İçindekiler'></a>\n",
    "# [İçindekiler]\n",
    "\n",
    "\n",
    "- [Değişkenler ve Değişken Tipleri (Variables and Variable Types)](#DeğişkenlerveDeğişkenTipleri(VariablesandVariableTypes))\n",
    "\n",
    "\n",
    "- [Aritmetik Operatörler (Arithmetic Operators)](#AritmetikOperatörler(ArithmeticOperators))\n",
    "\n",
    "\n",
    "- [Mantıksal Operatörler (Logical Operators)](#MantıksalOperatörler(LogicalOperators))\n",
    "\n",
    "\n",
    "- [Listeler (Lists)](#Listeler(Lists))\n",
    "\n",
    "\n",
    "- [Demetler (Tuples)](#Demetler(Tuples))\n",
    "\n",
    "\n",
    "- [Sözlükler (Dictionaries)](#Sözlükler(Dictionaries))\n",
    "\n",
    "\n",
    "- [Fonksiyonlar (Functions)](#Fonksiyonlar(Functions))\n",
    "\n",
    "\n",
    "- [Fonksiyon Kullanım Bilgilerini Oluşturma (Docstring)](#FonksiyonKullanımBilgileriniOluşturma(Docstring))\n",
    "\n",
    "\n",
    "- [Lambda Fonksiyonu (Lambda Function)](#LambdaFonksiyonu(LambdaFunction))\n",
    "\n",
    "\n",
    "- [Karar Durumları (Decision Situations)](#KararDurumları(DecisionSituations))\n",
    "\n",
    "\n",
    "- [Döngüler (Loops)](#Döngüler(Loops))\n",
    "\n",
    "\n",
    "- [Dosya İşlemleri (File Processes)](#Dosyaİşlemleri(FileProcesses))\n",
    "\n",
    "\n",
    "- [Alıştırmalar (Exercises)](#Alıştırmalar(Exercises)) "
   ]
  },
  {
   "cell_type": "markdown",
   "metadata": {},
   "source": [
    "<a id='DeğişkenlerveDeğişkenTipleri(VariablesandVariableTypes)'></a>\n",
    "> ## [[İçindekiler]](#İçindekiler) Değişkenler ve Değişken Tipleri (Variables and Variable Types)"
   ]
  },
  {
   "cell_type": "code",
   "execution_count": 1,
   "metadata": {},
   "outputs": [
    {
     "data": {
      "text/plain": [
       "2"
      ]
     },
     "execution_count": 1,
     "metadata": {},
     "output_type": "execute_result"
    }
   ],
   "source": [
    "1+1"
   ]
  },
  {
   "cell_type": "code",
   "execution_count": 2,
   "metadata": {},
   "outputs": [
    {
     "data": {
      "text/plain": [
       "'Sezer UĞUZ'"
      ]
     },
     "execution_count": 2,
     "metadata": {},
     "output_type": "execute_result"
    }
   ],
   "source": [
    "'Sezer UĞUZ'"
   ]
  },
  {
   "cell_type": "code",
   "execution_count": 3,
   "metadata": {},
   "outputs": [
    {
     "name": "stdout",
     "output_type": "stream",
     "text": [
      "<class 'int'>\n",
      "<class 'float'>\n",
      "<class 'str'>\n"
     ]
    }
   ],
   "source": [
    "# Değişkenler\n",
    "\n",
    "a = 24  # integer (tam sayı)\n",
    "print(type(a))\n",
    "\n",
    "pi = 3.14   #float (ondalıklı sayı)\n",
    "print(type(pi))\n",
    "\n",
    "name = 'Sezer UĞUZ' # string (yazı)\n",
    "print(type(name))"
   ]
  },
  {
   "cell_type": "code",
   "execution_count": 4,
   "metadata": {},
   "outputs": [
    {
     "data": {
      "text/plain": [
       "str"
      ]
     },
     "execution_count": 4,
     "metadata": {},
     "output_type": "execute_result"
    }
   ],
   "source": [
    "# print fonksiyonu kullanılmadan aşağıdaki 3 kod satırı çalıştırılırsa en sondaki değişkenin türü gösterilir.\n",
    "# (If the following 3 lines of code are executed without using the print function, \n",
    "# the type of the last variable will be display.)\n",
    "type(a)\n",
    "type(pi)\n",
    "type(name)"
   ]
  },
  {
   "cell_type": "code",
   "execution_count": 5,
   "metadata": {},
   "outputs": [],
   "source": [
    "# Teker teker değişken atamaları yapılabilir.\n",
    "# (Variable assignments can be made one by one.)\n",
    "x = 34\n",
    "y = 35\n",
    "\n",
    "# Birden fazla değer değişkene değer ataması tek satırda da yapılabilir.\n",
    "# (You can assign multiple variables in a row.)\n",
    "x,y = 34,35"
   ]
  },
  {
   "cell_type": "code",
   "execution_count": 6,
   "metadata": {},
   "outputs": [
    {
     "name": "stdout",
     "output_type": "stream",
     "text": [
      "a: 24 pi: 3.14 name: Sezer UĞUZ\n"
     ]
    }
   ],
   "source": [
    "# Değişkenleri Yazdır (Print Variables)\n",
    "print('a:', a, 'pi:', pi, 'name:', name)"
   ]
  },
  {
   "cell_type": "code",
   "execution_count": 7,
   "metadata": {},
   "outputs": [
    {
     "name": "stdout",
     "output_type": "stream",
     "text": [
      "a: 24 pi: 3.14 name: Sezer UĞUZ\n"
     ]
    }
   ],
   "source": [
    "# Değişkenleri Yazdır (Print Variables)\n",
    "print('a: {} pi: {} name: {}'.format(a, pi, name))"
   ]
  },
  {
   "cell_type": "markdown",
   "metadata": {},
   "source": [
    "<a id='AritmetikOperatörler(ArithmeticOperators)'></a>\n",
    "> ## [[İçindekiler]](#İçindekiler) Aritmetik Operatörler (Arithmetic Operators)"
   ]
  },
  {
   "cell_type": "code",
   "execution_count": 8,
   "metadata": {},
   "outputs": [
    {
     "name": "stdout",
     "output_type": "stream",
     "text": [
      "69\n",
      "-1\n",
      "1190\n",
      "0.9714285714285714\n",
      "0\n",
      "34\n"
     ]
    }
   ],
   "source": [
    "# Aritmetik Operatörler (Arithmetic Operators)\n",
    "\n",
    "print(x+y) # 10+3 = 13 -> Toplama İşlemi (Summation Operator)\n",
    "print(x-y) # 10-3 = 7 -> Çıkarma İşlemi (Subtraction Operator)\n",
    "print(x*y) # 10x3 = 30 -> Çarpma İşlemi (Multiplication Operator)\n",
    "print(x/y) # 10/3 = 3.3333333333333335 -> Bölme İşlemi (Division Operator)\n",
    "\n",
    "print(x//y)# 10/3 sonucunda elde edilen 3.3333333333333335 değerini döndürür, fakat 10//3 sonucunda\n",
    "           # integer kısmı olarak 3 değerini döndürür.\n",
    "           # (10/3 returns the value of 3.3333333333333335 but 10//3 returns the value of 3 as the integer part.)\n",
    "print(x%y) # 10/3'den kalanı çıktı olarak verir. (Returns the remainder of 10/3.)"
   ]
  },
  {
   "cell_type": "markdown",
   "metadata": {},
   "source": [
    "<a id='MantıksalOperatörler(LogicalOperators)'></a>\n",
    "> ## [[İçindekiler]](#İçindekiler) Mantıksal Operatörler (Logical Operators)"
   ]
  },
  {
   "cell_type": "code",
   "execution_count": 9,
   "metadata": {},
   "outputs": [
    {
     "name": "stdout",
     "output_type": "stream",
     "text": [
      "False\n",
      "False\n",
      "True\n",
      "True\n"
     ]
    }
   ],
   "source": [
    "# Mantıksal Operatörler (Logical Operators)\n",
    "\n",
    "print(x == y) # 34 eşit mi 35'e? -Hayır (Is 34 equals 35? -False)\n",
    "print(x > y)  # 34 büyük mü 35'ten? -Hayır (Is 34 higher than 35? -False)\n",
    "print(x < y)  # 34 küçüm mü 35'ten? -Evet (Is 34 smaller than 35? -True)\n",
    "print(x != y) # 34 eşit değil mi 35'e? -Evet (Is 34 not equals 35? -True)"
   ]
  },
  {
   "cell_type": "markdown",
   "metadata": {},
   "source": [
    "<a id='Listeler(Lists)'></a>\n",
    "> ## [[İçindekiler]](#İçindekiler) Listeler (Lists)"
   ]
  },
  {
   "cell_type": "code",
   "execution_count": 10,
   "metadata": {},
   "outputs": [],
   "source": [
    "# Liste Oluşturma (Create List)\n",
    "words = ['day', 'month', 'year'] # 3 eleman içermektedir. (It includes 3 variables)\n",
    "#indeks:   0       1       2\n",
    "#indeks 0'dan başlamaktadır. (index starts from 0.)\n",
    "\n",
    "# List yalnızca sayılardan, yazılardan veya hem sayılardan hem de yazılardan oluşabilir.\n",
    "# (List occurs only numbers, only strings or both numbers and strings.)\n",
    "numbers = [26, 6, 2020]\n",
    "words_numbers = ['day', 26, 'month', 6, 'year', 2020]"
   ]
  },
  {
   "cell_type": "code",
   "execution_count": 11,
   "metadata": {},
   "outputs": [
    {
     "data": {
      "text/plain": [
       "3"
      ]
     },
     "execution_count": 11,
     "metadata": {},
     "output_type": "execute_result"
    }
   ],
   "source": [
    "# len() fonksiyonu, kelime listesinin uzunluğunu (eleman sayısını) gösterir. [len: length]\n",
    "# (len() function gives length of the list. [len: length])\n",
    "len(words)"
   ]
  },
  {
   "cell_type": "code",
   "execution_count": 12,
   "metadata": {},
   "outputs": [
    {
     "data": {
      "text/plain": [
       "['day', 'month']"
      ]
     },
     "execution_count": 12,
     "metadata": {},
     "output_type": "execute_result"
    }
   ],
   "source": [
    "# Listede belirli bir aralığı almak için aşağıdaki işlem yapılır.\n",
    "# (If you want to select specific range from list, then you can do it as below.)\n",
    "words[0:2] # 0 ve 1 => dahildir, 2 => dahil değildir. Buna göre sadece 0. ve 1. indeksteki değerler yazdırılır.\n",
    "           # (0 ve 1 => inclusive, 2 => not inclusive. That's why, only indexes of 0 and 1 will show.)"
   ]
  },
  {
   "cell_type": "code",
   "execution_count": 13,
   "metadata": {},
   "outputs": [
    {
     "data": {
      "text/plain": [
       "'year'"
      ]
     },
     "execution_count": 13,
     "metadata": {},
     "output_type": "execute_result"
    }
   ],
   "source": [
    "# Listenin en sonundaki değeri bulmak için aşağıdaki işlem yapılır.\n",
    "# (If you want to see last variable of list, then you can execute code as below.)\n",
    "words[-1]"
   ]
  },
  {
   "cell_type": "code",
   "execution_count": 14,
   "metadata": {},
   "outputs": [
    {
     "data": {
      "text/plain": [
       "['day', 'month']"
      ]
     },
     "execution_count": 14,
     "metadata": {},
     "output_type": "execute_result"
    }
   ],
   "source": [
    "# Listenin en sonundaki değerin dışındaki elemanları bulmak için aşağıdaki işlem yapılır.\n",
    "# (If you want to see list without last variable, then you can execute code as below.)\n",
    "words[:-1]"
   ]
  },
  {
   "cell_type": "code",
   "execution_count": 15,
   "metadata": {},
   "outputs": [
    {
     "data": {
      "text/plain": [
       "2"
      ]
     },
     "execution_count": 15,
     "metadata": {},
     "output_type": "execute_result"
    }
   ],
   "source": [
    "# Listenin en sonundaki değerin dışındaki elemanların toplam sayısını bulmak için aşağıdaki işlem yapılır.\n",
    "# (If you want to see length of list without last variable, then you can execute code as below.)\n",
    "len(words[:-1])"
   ]
  },
  {
   "cell_type": "code",
   "execution_count": 16,
   "metadata": {},
   "outputs": [
    {
     "data": {
      "text/plain": [
       "True"
      ]
     },
     "execution_count": 16,
     "metadata": {},
     "output_type": "execute_result"
    }
   ],
   "source": [
    "# Aşağıdaki kod ile 'day' elemanının kelime listesi içinde yer alıp almadığı sorgulanır.\n",
    "# (If you want to know, is 'day' varible exists in list (words), then you can execute code as below.)\n",
    "# Çıktı sonucu True ise yer almaktadır, False ise yer almamaktadır.\n",
    "# (If output of code is True, then 'day' variable exists, otherwise False (does not exist).)\n",
    "'day' in words"
   ]
  },
  {
   "cell_type": "code",
   "execution_count": 17,
   "metadata": {},
   "outputs": [
    {
     "name": "stdout",
     "output_type": "stream",
     "text": [
      "numbers:  [1, 2, 3, 4, 5, 6, 7, 8, 9]\n",
      "numbers_square:  [1, 4, 9, 16, 25, 36, 49, 64, 81]\n",
      "odd_numbers_square:  [1, 9, 25, 49, 81]\n"
     ]
    }
   ],
   "source": [
    "# List Oluşturma Örnekleri (Examples of Create Lists)\n",
    "numbers = list(range(1,10)) # range() ile 1'den 10'a kadar (10 dahil değil) olan değerler üretilip list() oluşturulur.\n",
    "                            # (range() function generates numbers from 1 to 10 (10 not inclusive) and\n",
    "                            # numbers will store in list by list() function.)\n",
    "        \n",
    "numbers_square =[n*n for n in numbers] # n*n => n değerinin karesidir (n*n => square of n)\n",
    "odd_numbers_square = [n*n for n in numbers if n%2==1] # n değeri tek ise karesini alır (if n is odd, take square of it)\n",
    "print('numbers: ', numbers)\n",
    "print('numbers_square: ', numbers_square)\n",
    "print('odd_numbers_square: ', odd_numbers_square)"
   ]
  },
  {
   "cell_type": "markdown",
   "metadata": {},
   "source": [
    "<a id='Sözlükler(Dictionaries)'></a>\n",
    "> ## [[İçindekiler]](#İçindekiler) Sözlükler (Dictionaries)"
   ]
  },
  {
   "cell_type": "code",
   "execution_count": 18,
   "metadata": {},
   "outputs": [
    {
     "data": {
      "text/plain": [
       "{'Name': 'Sezer', 'Surname': 'UĞUZ', 'Age': 25}"
      ]
     },
     "execution_count": 18,
     "metadata": {},
     "output_type": "execute_result"
    }
   ],
   "source": [
    "# Liste Oluşturma (Create List)\n",
    "person = {'Name' : 'Sezer', 'Surname' : 'UĞUZ', 'Age': 25}\n",
    "person #person: kişi"
   ]
  },
  {
   "cell_type": "code",
   "execution_count": 19,
   "metadata": {},
   "outputs": [
    {
     "data": {
      "text/html": [
       "<div>\n",
       "<style scoped>\n",
       "    .dataframe tbody tr th:only-of-type {\n",
       "        vertical-align: middle;\n",
       "    }\n",
       "\n",
       "    .dataframe tbody tr th {\n",
       "        vertical-align: top;\n",
       "    }\n",
       "\n",
       "    .dataframe thead th {\n",
       "        text-align: right;\n",
       "    }\n",
       "</style>\n",
       "<table border=\"1\" class=\"dataframe\">\n",
       "  <thead>\n",
       "    <tr style=\"text-align: right;\">\n",
       "      <th></th>\n",
       "      <th>odd</th>\n",
       "      <th>even</th>\n",
       "    </tr>\n",
       "  </thead>\n",
       "  <tbody>\n",
       "    <tr>\n",
       "      <th>0</th>\n",
       "      <td>1</td>\n",
       "      <td>0</td>\n",
       "    </tr>\n",
       "    <tr>\n",
       "      <th>1</th>\n",
       "      <td>3</td>\n",
       "      <td>2</td>\n",
       "    </tr>\n",
       "    <tr>\n",
       "      <th>2</th>\n",
       "      <td>5</td>\n",
       "      <td>4</td>\n",
       "    </tr>\n",
       "    <tr>\n",
       "      <th>3</th>\n",
       "      <td>7</td>\n",
       "      <td>6</td>\n",
       "    </tr>\n",
       "    <tr>\n",
       "      <th>4</th>\n",
       "      <td>9</td>\n",
       "      <td>8</td>\n",
       "    </tr>\n",
       "  </tbody>\n",
       "</table>\n",
       "</div>"
      ],
      "text/plain": [
       "   odd  even\n",
       "0    1     0\n",
       "1    3     2\n",
       "2    5     4\n",
       "3    7     6\n",
       "4    9     8"
      ]
     },
     "execution_count": 19,
     "metadata": {},
     "output_type": "execute_result"
    }
   ],
   "source": [
    "# Sözlükten Veri Çerçevesi Oluşturma (Create Data Frame from Dictionary)\n",
    "import pandas as pd # kütüphaneyi ekle (import library)\n",
    "numbers = {'odd' : [1, 3, 5, 7, 9], 'even' : [0, 2, 4, 6, 8]}\n",
    "df = pd.DataFrame(numbers)\n",
    "df # df: Data Frame"
   ]
  },
  {
   "cell_type": "markdown",
   "metadata": {},
   "source": [
    "<a id='Demetler(Tuples)'></a>\n",
    "> ## [[İçindekiler]](#İçindekiler) Demetler (Tuples)"
   ]
  },
  {
   "cell_type": "code",
   "execution_count": 20,
   "metadata": {},
   "outputs": [
    {
     "name": "stdout",
     "output_type": "stream",
     "text": [
      "('Erzincan', 24)\n"
     ]
    }
   ],
   "source": [
    "city_info = ('Erzincan', 24) # Şehir adı ve plaka numarası. (City name and plate number.)\n",
    "print(city_info)"
   ]
  },
  {
   "cell_type": "code",
   "execution_count": 21,
   "metadata": {},
   "outputs": [
    {
     "name": "stdout",
     "output_type": "stream",
     "text": [
      "Erzincan\n"
     ]
    }
   ],
   "source": [
    "# İndex numarası ile 'Erzincan' bilgisini al. (Get 'Erzincan' name by index number.)\n",
    "print(city_info[0])"
   ]
  },
  {
   "cell_type": "markdown",
   "metadata": {},
   "source": [
    "<a id='Fonksiyonlar(Functions)'></a>\n",
    "> ## [[İçindekiler]](#İçindekiler) Fonksiyonlar (Functions)"
   ]
  },
  {
   "cell_type": "code",
   "execution_count": 22,
   "metadata": {},
   "outputs": [],
   "source": [
    "# Fonksiyonlar (Functions)\n",
    "\n",
    "# Fonksiyon Oluştur (Create a Funciton)\n",
    "def square_of_number(number):\n",
    "    \n",
    "    return  number * number"
   ]
  },
  {
   "cell_type": "code",
   "execution_count": 23,
   "metadata": {},
   "outputs": [
    {
     "data": {
      "text/plain": [
       "9"
      ]
     },
     "execution_count": 23,
     "metadata": {},
     "output_type": "execute_result"
    }
   ],
   "source": [
    "# Fonksiyonu Çağır (Call Function)\n",
    "square_of_number(3)"
   ]
  },
  {
   "cell_type": "code",
   "execution_count": 24,
   "metadata": {},
   "outputs": [],
   "source": [
    "# Fonksiyon Oluştur (Create a Funciton)\n",
    "def hello():\n",
    "    \n",
    "    return 'Hello World!'"
   ]
  },
  {
   "cell_type": "code",
   "execution_count": 25,
   "metadata": {},
   "outputs": [
    {
     "data": {
      "text/plain": [
       "'Hello World!'"
      ]
     },
     "execution_count": 25,
     "metadata": {},
     "output_type": "execute_result"
    }
   ],
   "source": [
    "# Fonksiyonu Çağır (Call Function)\n",
    "hello()"
   ]
  },
  {
   "cell_type": "markdown",
   "metadata": {},
   "source": [
    "<a id='FonksiyonKullanımBilgileriniOluşturma(Docstring)'></a>\n",
    "> ## [[İçindekiler]](#İçindekiler) Fonksiyon Kullanım Bilgilerini Oluşturma (Docstring)"
   ]
  },
  {
   "cell_type": "code",
   "execution_count": 26,
   "metadata": {},
   "outputs": [],
   "source": [
    "# Fonksiyon Oluştur (Create a Funciton)\n",
    "def square_of_number(number):\n",
    "    \n",
    "    \"\"\"\n",
    "    @Kullanım Kılavuzu (Usage Guide)\n",
    "    def: Tanım (definition)\n",
    "    square_of_number: Fonksiyon adı (function name)\n",
    "    number: Parametre (parameter)\n",
    "    \n",
    "    @param (parameters)\n",
    "    number: Karesi alınacak olan değer (value that will take square of it)\n",
    "    \n",
    "    @output\n",
    "    return: Fonksiyon sonucunu fonksiyonun istenildiği yere döndür (return the result of function)\n",
    "    \"\"\"\n",
    "    \n",
    "    return  number * number"
   ]
  },
  {
   "cell_type": "code",
   "execution_count": 27,
   "metadata": {},
   "outputs": [
    {
     "data": {
      "text/plain": [
       "9"
      ]
     },
     "execution_count": 27,
     "metadata": {},
     "output_type": "execute_result"
    }
   ],
   "source": [
    "# Fonksiyonu Çağır (Call Function)\n",
    "\n",
    "# Fonksiyon içerisinde imleç bulunurken 'aşağıdaki (3) gibi' klavyeden 'Tab' ve 'Shift' (Tab+Shift) tuşlarına birlikte basarak \n",
    "# Docstring bilgilerine ulaşarak fonksiyonda içindeki bilgilere ulaşabilirsiniz.\n",
    "\n",
    "# (While there is a cursor inside the function 'as below (3) ', you can access the Docstring information by pressing \n",
    "# the keyboard and pressing the 'Tab' and 'Shift' (Tab + Shift) keys together.)\n",
    "\n",
    "square_of_number(3)"
   ]
  },
  {
   "cell_type": "markdown",
   "metadata": {},
   "source": [
    "<a id='LambdaFonksiyonu(LambdaFunction)'></a>\n",
    "> ## [[İçindekiler]](#İçindekiler) Lambda Fonksiyonu (Lambda Function)"
   ]
  },
  {
   "cell_type": "code",
   "execution_count": 28,
   "metadata": {},
   "outputs": [
    {
     "data": {
      "text/plain": [
       "9"
      ]
     },
     "execution_count": 28,
     "metadata": {},
     "output_type": "execute_result"
    }
   ],
   "source": [
    "# Lambda Fonksiyonu (Lambda Function)\n",
    "\n",
    "# Fonksiyon Oluştur (Create a Funciton)\n",
    "square_of_number = lambda number: number * number\n",
    "\n",
    "# Fonksiyonu Çağır (Call Function)\n",
    "square_of_number(3)"
   ]
  },
  {
   "cell_type": "code",
   "execution_count": 29,
   "metadata": {},
   "outputs": [
    {
     "name": "stdout",
     "output_type": "stream",
     "text": [
      "Odd Numbers [1, 3, 5, 7, 9]\n",
      "Odd Numbers Boolean [True, False, True, False, True, False, True, False, True]\n"
     ]
    }
   ],
   "source": [
    "# Lambda ile Listenin Beraber Kullanımı (Usage of Lambda and List Functions Together)\n",
    "numbers = [1, 2, 3, 4, 5, 6, 7, 8, 9]\n",
    "\n",
    "# Sadece tek sayıları seçin. (Select only odd numbers.)\n",
    "odd_numbers = list(filter(lambda n: n%2==1, numbers))\n",
    "\n",
    "# Sayıların tek olup olmadığını kontrol edin. (Check if the numbers are odd.)\n",
    "odd_numbers_boolean = list(map(lambda n: n%2==1, numbers))\n",
    "\n",
    "print('Odd Numbers', odd_numbers)\n",
    "print('Odd Numbers Boolean', odd_numbers_boolean)"
   ]
  },
  {
   "cell_type": "code",
   "execution_count": 30,
   "metadata": {},
   "outputs": [],
   "source": [
    "# Tüm Sayılar       [ 1,     2,     3,     4,    5,     6,    7,     8,   9 ]\n",
    "# (All Numbers)"
   ]
  },
  {
   "cell_type": "markdown",
   "metadata": {},
   "source": [
    "<a id='KararDurumları(DecisionSituations)'></a>\n",
    "> ## [[İçindekiler]](#İçindekiler) Karar Durumları (Decision Situations)"
   ]
  },
  {
   "cell_type": "code",
   "execution_count": 31,
   "metadata": {},
   "outputs": [],
   "source": [
    "person = {'Name' : 'Sezer', 'Surname' : 'UĞUZ', 'Age': 25}"
   ]
  },
  {
   "cell_type": "code",
   "execution_count": 32,
   "metadata": {},
   "outputs": [
    {
     "name": "stdout",
     "output_type": "stream",
     "text": [
      "Input a number for print your name (0) or surname (1) or age (2): 0\n",
      "Sezer\n"
     ]
    }
   ],
   "source": [
    "# Karar Durumları (Decision Situations)\n",
    "user_input = int(input('Input a number for print your name (0) or surname (1) or age (2): '))\n",
    "\n",
    "if user_input == 0:          # Eğer kullanıcının girdiği değer 0 ise (If user's input is 0)\n",
    "    print(person['Name'])    # O zaman kullanıcının adı yazdırılır (Then user's name will be print)\n",
    "    \n",
    "elif user_input == 1:        # Eğer kullanıcının girdiği değer 1 ise (If user's input is 1)\n",
    "    print(person['Surname']) # O zaman kullanıcının adı yazdırılır (Then user's name will be print)\n",
    "    \n",
    "else:                        # Eğer kullanıcının girdiği değer 0 veya 1 değil ise (If user's input is not 0 or 1)\n",
    "    print(person['Age'])     # O zaman kullanıcının yaşı yazdırılır (Then user's age will be print)"
   ]
  },
  {
   "cell_type": "markdown",
   "metadata": {},
   "source": [
    "<a id='Döngüler(Loops)'></a>\n",
    "> ## [[İçindekiler]](#İçindekiler) Döngüler (Loops)"
   ]
  },
  {
   "cell_type": "code",
   "execution_count": 33,
   "metadata": {},
   "outputs": [
    {
     "name": "stdout",
     "output_type": "stream",
     "text": [
      "['Hello', 'world,', 'hello', 'everbody!']\n",
      "Length of words:  4\n",
      "The word \"hello\" appears 1 times.\n"
     ]
    }
   ],
   "source": [
    "# Döngüler (Loops)\n",
    "\n",
    "sentence = \"Hello world, hello everbody!\"\n",
    "words = sentence.split(' ') # Cümle kelimelere ayrılıp liste içerisine eklenir. \n",
    "                            # (Sentence will be split as words, and the words will be store in list.)\n",
    "\n",
    "print(words)# 'words' listesinde 4 eleman vardır. Bunlar şöyledir; ['Hello', 'world,', 'hello', 'everbody!']\n",
    "     # (There are 4 elements in the 'words' list. These are as follows; ['Hello', 'world,', 'hello', 'everbody!'])\n",
    "    \n",
    "print('Length of words: ', len(words)) # 'words' listesinin uzunluğu 4. (Length of words:  4)\n",
    "find_word = 'hello'\n",
    "count = 0 # 'count' burada sayaç görevi görmektedir, aranılan kelimenin ('hello') kaç kere listede olduğunu sayar.\n",
    "    #('count' acts as a counter here, it is counting the number of times the searched word ('hello') is on the list.)\n",
    "\n",
    "\n",
    "for word in words: # Döngü 4 kez tekrarlanacak çünkü 'words' listesinde yer alan eleman sayısı (4) kadar tekrarlanır.\n",
    "#(The loop will be repeated 4 times because the number of elements (4) in the 'words' list is repeated as many times.)\n",
    "    \n",
    "    if word == find_word: # Aranılan kelime (find_word = 'hello') döngü içerisinde 'word'e eşit ise\n",
    "                          # (If the searched word (find_word = 'hello') is equal to 'word' in the loop)\n",
    "        \n",
    "        count = count + 1 # O zaman 'count' (sayaç) değeri 1 artırılır.\n",
    "                          # (Then the 'count' value is increased by 1.)\n",
    "        \n",
    "# Döngü tamamlandıktan sonra ilgili kelimenin adı ve kaç kere yer aldığı gösterilir.\n",
    "# (After the cycle is completed, the name of the word and how many times it appears are shown.)\n",
    "\n",
    "print('The word \"{}\" appears {} times.'.format(find_word, count))"
   ]
  },
  {
   "cell_type": "markdown",
   "metadata": {},
   "source": [
    "<a id='Dosyaİşlemleri(FileProcesses)'></a>\n",
    "> ## [[İçindekiler]](#İçindekiler) Dosya İşlemleri (File Processes)"
   ]
  },
  {
   "cell_type": "code",
   "execution_count": 34,
   "metadata": {},
   "outputs": [
    {
     "name": "stdout",
     "output_type": "stream",
     "text": [
      "Hello there! Welcome to the \"Diving into the Python Programming Language\" training.\n"
     ]
    }
   ],
   "source": [
    "# Dosyayı Okuma\n",
    "with open('text.txt', 'r') as file: # r: okuma modu (read mode)\n",
    "    for line in file: # Dosya içindeki bilgiler satır satır yazdırılır.\n",
    "                      # (The information in the file is printed line by line.)\n",
    "        print(line)"
   ]
  },
  {
   "cell_type": "code",
   "execution_count": 35,
   "metadata": {},
   "outputs": [
    {
     "name": "stdout",
     "output_type": "stream",
     "text": [
      "There are 12 words in the text file.\n"
     ]
    }
   ],
   "source": [
    "# Dosya içindeki kelimeleri sayma (Counting words in the file)\n",
    "count = 0\n",
    "with open('text.txt') as file:\n",
    "    for line in file:\n",
    "        for words in line.split(' '):\n",
    "            count = count + 1\n",
    "\n",
    "print(\"There are\",count,\"words in the text file.\")"
   ]
  },
  {
   "cell_type": "markdown",
   "metadata": {},
   "source": [
    "<a id='Alıştırmalar(Exercises)'></a>\n",
    "> ## [[İçindekiler]](#İçindekiler) Alıştırmalar (Exercises)\n",
    "\n",
    "1. Kullanıcıdan bir tam sayı değeri istemek için bir program yazın ve ardından bu sayının karesini yazdırın. Örneğin, 5 yazıldığın 25 sonucu çıktı olarak verilecek. \n",
    "\n",
    "    (Write a program to ask user for an integer value and then print out that number squared. For example when you input 5 the output would be 25.)\n",
    "\n",
    "\n",
    "2. Kullanıcıdan bir tam sayı değeri istemek için bir program yazın. Sayı tek veya çiftse, 'tek' veya 'çift' yazdırın. Giriş 'E' ise, programdan çıkın. \n",
    "\n",
    "    (Write a program to ask user for an integer value and print odd or even number, if input is 'E', then exit the program.)\n",
    "    \n",
    "\n",
    "3. Kendi kelime listenizi oluşturun. Sözcükler arasında döngü oluşturmak için bir program yazın ve her kelimenin ilk harfini yazdırın. Örneğin, kelime listeniz '[' he ',' she ',' it '] ise çıktı h s i olacaktır. \n",
    "\n",
    "    (Create your own list of words. Write a program to loop through the words and print out the first letter of each word. For example if your word list is '['he','she','it'] the output would be h s i.)\n",
    "    \n",
    "    \n",
    "4. Her kelimedeki son harfi yazdırmak için önceki örnekte yer alan programınızı değiştirin. \n",
    "\n",
    "    (Modify your program in the previous example to print out the last letter in each word.)\n",
    "    \n",
    "    \n",
    "5. Kullanıcıdan bir kelime girmesini istemek için bir program yazın, sonra o kelimenin text.txt dosyasında kaç kez göründüğünü yazdırın. \n",
    "    \n",
    "    (Write a program to ask user to enter a word, then print how many times that word appears in text.txt.)"
   ]
  },
  {
   "cell_type": "code",
   "execution_count": 36,
   "metadata": {},
   "outputs": [
    {
     "name": "stdout",
     "output_type": "stream",
     "text": [
      "Enter a number: 5\n",
      "The square of the number is: 25\n"
     ]
    }
   ],
   "source": [
    "# Cevap-1 (Answer-1)\n",
    "num = int(input('Enter a number: ')) # Bir sayı girin. (Input a number.)\n",
    "print('The square of the number is:',num*num) # Sayının karesini alın. (Take square of the number.)"
   ]
  },
  {
   "cell_type": "code",
   "execution_count": 37,
   "metadata": {},
   "outputs": [
    {
     "name": "stdout",
     "output_type": "stream",
     "text": [
      "Press E for exit!\n",
      "Enter a number: 1\n",
      "1 is an Odd Number.\n",
      "Enter a number: 2\n",
      "2 is an Even Number.\n",
      "Enter a number: 3\n",
      "3 is an Odd Number.\n",
      "Enter a number: E\n",
      "Good bye!\n"
     ]
    }
   ],
   "source": [
    "# Cevap-2 (Answer-2)\n",
    "print('Press E for exit!') # While döngüsünden çıkmak istiyorsanız (If you want to exit the while loop)\n",
    "\n",
    "while True:\n",
    "    num = input('Enter a number: ') # Bir sayı girin. (Input a number.)\n",
    "    if(num=='E'):\n",
    "        print('Good bye!')\n",
    "        break\n",
    "    else:\n",
    "        s = int(num)\n",
    "        if s%2==0:\n",
    "            print(s,'is an Even Number.') # Çift olup olmadığını kontrol edin. (Check if it is even.)\n",
    "        else:\n",
    "            print(s,'is an Odd Number.')  # Tek olup olmadığını kontrol edin. (Check if it is odd.)"
   ]
  },
  {
   "cell_type": "code",
   "execution_count": 38,
   "metadata": {},
   "outputs": [
    {
     "name": "stdout",
     "output_type": "stream",
     "text": [
      "['Hello', 'there!', 'Welcome', 'to', 'the', '\"Diving', 'into', 'the', 'Python', 'Programming', 'Language\"', 'training.']\n"
     ]
    }
   ],
   "source": [
    "# Cevap-3 (Answer-3)\n",
    "# I created my words in the fromscratch.txt file and I converted to the list as below.\n",
    "with open('text.txt') as file:\n",
    "    for line in file:\n",
    "        words = line.split(' ') # I made a list of words\n",
    "        print(words)"
   ]
  },
  {
   "cell_type": "code",
   "execution_count": 39,
   "metadata": {
    "scrolled": true
   },
   "outputs": [
    {
     "name": "stdout",
     "output_type": "stream",
     "text": [
      " H t W t t \" i t P P L t\n"
     ]
    }
   ],
   "source": [
    "# Cevap-3 Devam (Answer-3 Cont.)\n",
    "# Kelimelerin ilk harfini yazdırın. (Print out the first letter of words.)\n",
    "i='' # i'nin başlangıç değeri. (Initial value of i.)\n",
    "for each in words:\n",
    "    i = i + ' ' + each[0] # İlk karakter i içine kaydedilecektir. (First character will save to in i.)\n",
    "print(i) # Tüm kelimelerin ilk karakterlerini yazdır. (Print first character of all words.)\n",
    "\n",
    "# Not: Alfabetik olmayan karakterler ayıklanmamıştır. \n",
    "# İlerleyen zamanda bu konuyla ilgili detaylı çalışmalar yapılacaktır.\n",
    "\n",
    "# (Non-alphabetic characters were not cleaned. Detailed studies on this subject will be carried out in the future.)"
   ]
  },
  {
   "cell_type": "code",
   "execution_count": 40,
   "metadata": {},
   "outputs": [
    {
     "name": "stdout",
     "output_type": "stream",
     "text": [
      " o ! e o e g o e n g \" .\n"
     ]
    }
   ],
   "source": [
    "# Cevap-4 (Answer-4)\n",
    "# Kelimelerin son harfini yazdırın. (Print out the last letter of words.)\n",
    "j='' # j'nin başlangıç değeri. (Initial value of j.)\n",
    "for each in words:\n",
    "    j = j + ' ' + each[-1] # Son karakter j içine kaydedilecektir. (Last character will save to in j.)\n",
    "print(j) # Tüm kelimelerin son karakterlerinı yazdır. (Print first character of all words.)"
   ]
  },
  {
   "cell_type": "code",
   "execution_count": 41,
   "metadata": {
    "scrolled": true
   },
   "outputs": [
    {
     "name": "stdout",
     "output_type": "stream",
     "text": [
      "Enter a word that you want to learn count of word: Python\n",
      "The name of \" Python \" was found 1 times in the text.\n"
     ]
    }
   ],
   "source": [
    "# Cevap-5 (Answer-5)\n",
    "\n",
    "myWord = input('Enter a word that you want to learn count of word: ') # Kelimeyi myWord olarak kaydet.\n",
    "                                                                          # (Save to word as myWord)\n",
    "count = 0  # count'un başlangıç değeri. (Initial value of count.)\n",
    "\n",
    "with open('text.txt', 'r') as file:\n",
    "    for line in file:                   # Kelimeleri satır satır al. (Take the words as line by line.)\n",
    "        words = line.split(' ')         # Kelimelerin bir listesini oluşturun. (Create a list of words.)\n",
    "        for each in words:              # Kelime kelime oku. (Read as word by word.)\n",
    "            if each == myWord:          # Eğer 'each' ve 'myWord' aynı ise (If 'each' and 'myWord' are the same)\n",
    "                count = count + 1       # o zaman sayıyı 1 artır. (then, increase the count by 1.)\n",
    "            \n",
    "\n",
    "\n",
    "print('The name of \"',myWord,'\" was found',count,\"times in the text.\") # Sonucu yazdır. (Print the result.)\n"
   ]
  }
 ],
 "metadata": {
  "kernelspec": {
   "display_name": "Python 3",
   "language": "python",
   "name": "python3"
  },
  "language_info": {
   "codemirror_mode": {
    "name": "ipython",
    "version": 3
   },
   "file_extension": ".py",
   "mimetype": "text/x-python",
   "name": "python",
   "nbconvert_exporter": "python",
   "pygments_lexer": "ipython3",
   "version": "3.7.6"
  }
 },
 "nbformat": 4,
 "nbformat_minor": 2
}
